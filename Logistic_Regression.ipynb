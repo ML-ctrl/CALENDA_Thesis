{
  "nbformat": 4,
  "nbformat_minor": 0,
  "metadata": {
    "colab": {
      "provenance": [],
      "authorship_tag": "ABX9TyPoz9IBTkrn+u9HRKn1lrwL",
      "include_colab_link": true
    },
    "kernelspec": {
      "name": "python3",
      "display_name": "Python 3"
    },
    "language_info": {
      "name": "python"
    }
  },
  "cells": [
    {
      "cell_type": "markdown",
      "metadata": {
        "id": "view-in-github",
        "colab_type": "text"
      },
      "source": [
        "<a href=\"https://colab.research.google.com/github/ML-ctrl/Thesis-ML_2022/blob/main/Logistic_Regression.ipynb\" target=\"_parent\"><img src=\"https://colab.research.google.com/assets/colab-badge.svg\" alt=\"Open In Colab\"/></a>"
      ]
    },
    {
      "cell_type": "markdown",
      "source": [
        "The sentiment analysis showed that Caleda published 164 negative posts and 36 positive ones, whilst Salvini published 94 negative posts and 56 postive ones.\n",
        "The Chi-squared test of the difference in the distribuitons of sentiments between the Calenda and Salvini showed that there is a significant difference in the distribution of sentiment.\n",
        "\n",
        "To further investigate the relationship between the politician and the sentiment of the post, I decided to perform the following logistic regression."
      ],
      "metadata": {
        "id": "OegK36KZzP5o"
      }
    },
    {
      "cell_type": "code",
      "execution_count": null,
      "metadata": {
        "colab": {
          "base_uri": "https://localhost:8080/"
        },
        "id": "ZBVaQJMQy4qU",
        "outputId": "a90de3d3-6d9c-4ed2-c585-c290e55184f4"
      },
      "outputs": [
        {
          "output_type": "stream",
          "name": "stdout",
          "text": [
            "Optimization terminated successfully.\n",
            "         Current function value: 0.531807\n",
            "         Iterations 5\n",
            "                           Logit Regression Results                           \n",
            "==============================================================================\n",
            "Dep. Variable:              Sentiment   No. Observations:                  280\n",
            "Model:                          Logit   Df Residuals:                      278\n",
            "Method:                           MLE   Df Model:                            1\n",
            "Date:                Thu, 30 May 2024   Pseudo R-squ.:                 0.01067\n",
            "Time:                        00:00:06   Log-Likelihood:                -148.91\n",
            "converged:                       True   LL-Null:                       -150.51\n",
            "Covariance Type:            nonrobust   LLR p-value:                   0.07307\n",
            "==============================================================================\n",
            "                 coef    std err          z      P>|z|      [0.025      0.975]\n",
            "------------------------------------------------------------------------------\n",
            "const          0.4477      0.444      1.007      0.314      -0.423       1.319\n",
            "Politician     0.5120      0.287      1.785      0.074      -0.050       1.074\n",
            "==============================================================================\n"
          ]
        }
      ],
      "source": [
        "import pandas as pd\n",
        "import statsmodels.api as sm\n",
        "\n",
        "# Create a DataFrame with the data\n",
        "data = {\n",
        "    'Politician': [1]*130 + [2]*150,  # 1 for Salvini, 2 for Calenda\n",
        "    'Sentiment': [1]*94 + [0]*36 + [1]*122 + [0]*28  # 1 for negative, 0 for positive\n",
        "}\n",
        "\n",
        "df = pd.DataFrame(data)\n",
        "\n",
        "# Define the independent and dependent variables\n",
        "X = df['Politician']\n",
        "y = df['Sentiment']\n",
        "\n",
        "# Add intercept term\n",
        "X = sm.add_constant(X)\n",
        "\n",
        "# Fit logistic regression model\n",
        "logit_model = sm.Logit(y, X)\n",
        "result = logit_model.fit()\n",
        "\n",
        "# Print summary of the model\n",
        "print(result.summary())"
      ]
    }
  ]
}